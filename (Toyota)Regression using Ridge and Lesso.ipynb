{
 "cells": [
  {
   "cell_type": "code",
   "execution_count": 1,
   "metadata": {},
   "outputs": [],
   "source": [
    "import pandas as pd\n",
    "import numpy as np\n",
    "import matplotlib.pyplot as plt\n",
    "from sklearn.linear_model import LinearRegression\n",
    "from sklearn.model_selection import train_test_split"
   ]
  },
  {
   "cell_type": "code",
   "execution_count": 2,
   "metadata": {},
   "outputs": [],
   "source": [
    "df = pd.read_csv(\"ToyotaCorolla.csv\", encoding='Latin1')"
   ]
  },
  {
   "cell_type": "code",
   "execution_count": 3,
   "metadata": {},
   "outputs": [
    {
     "data": {
      "text/html": [
       "<div>\n",
       "<style scoped>\n",
       "    .dataframe tbody tr th:only-of-type {\n",
       "        vertical-align: middle;\n",
       "    }\n",
       "\n",
       "    .dataframe tbody tr th {\n",
       "        vertical-align: top;\n",
       "    }\n",
       "\n",
       "    .dataframe thead th {\n",
       "        text-align: right;\n",
       "    }\n",
       "</style>\n",
       "<table border=\"1\" class=\"dataframe\">\n",
       "  <thead>\n",
       "    <tr style=\"text-align: right;\">\n",
       "      <th></th>\n",
       "      <th>Id</th>\n",
       "      <th>Model</th>\n",
       "      <th>Price</th>\n",
       "      <th>Age_08_04</th>\n",
       "      <th>Mfg_Month</th>\n",
       "      <th>Mfg_Year</th>\n",
       "      <th>KM</th>\n",
       "      <th>Fuel_Type</th>\n",
       "      <th>HP</th>\n",
       "      <th>Met_Color</th>\n",
       "      <th>...</th>\n",
       "      <th>Central_Lock</th>\n",
       "      <th>Powered_Windows</th>\n",
       "      <th>Power_Steering</th>\n",
       "      <th>Radio</th>\n",
       "      <th>Mistlamps</th>\n",
       "      <th>Sport_Model</th>\n",
       "      <th>Backseat_Divider</th>\n",
       "      <th>Metallic_Rim</th>\n",
       "      <th>Radio_cassette</th>\n",
       "      <th>Tow_Bar</th>\n",
       "    </tr>\n",
       "  </thead>\n",
       "  <tbody>\n",
       "    <tr>\n",
       "      <th>0</th>\n",
       "      <td>1</td>\n",
       "      <td>TOYOTA Corolla 2.0 D4D HATCHB TERRA 2/3-Doors</td>\n",
       "      <td>13500</td>\n",
       "      <td>23</td>\n",
       "      <td>10</td>\n",
       "      <td>2002</td>\n",
       "      <td>46986</td>\n",
       "      <td>Diesel</td>\n",
       "      <td>90</td>\n",
       "      <td>1</td>\n",
       "      <td>...</td>\n",
       "      <td>1</td>\n",
       "      <td>1</td>\n",
       "      <td>1</td>\n",
       "      <td>0</td>\n",
       "      <td>0</td>\n",
       "      <td>0</td>\n",
       "      <td>1</td>\n",
       "      <td>0</td>\n",
       "      <td>0</td>\n",
       "      <td>0</td>\n",
       "    </tr>\n",
       "  </tbody>\n",
       "</table>\n",
       "<p>1 rows × 38 columns</p>\n",
       "</div>"
      ],
      "text/plain": [
       "   Id                                          Model  Price  Age_08_04  \\\n",
       "0   1  TOYOTA Corolla 2.0 D4D HATCHB TERRA 2/3-Doors  13500         23   \n",
       "\n",
       "   Mfg_Month  Mfg_Year     KM Fuel_Type  HP  Met_Color  ... Central_Lock  \\\n",
       "0         10      2002  46986    Diesel  90          1  ...            1   \n",
       "\n",
       "   Powered_Windows  Power_Steering  Radio  Mistlamps  Sport_Model  \\\n",
       "0                1               1      0          0            0   \n",
       "\n",
       "   Backseat_Divider  Metallic_Rim  Radio_cassette  Tow_Bar  \n",
       "0                 1             0               0        0  \n",
       "\n",
       "[1 rows x 38 columns]"
      ]
     },
     "execution_count": 3,
     "metadata": {},
     "output_type": "execute_result"
    }
   ],
   "source": [
    "df.head(1)"
   ]
  },
  {
   "cell_type": "code",
   "execution_count": 4,
   "metadata": {},
   "outputs": [
    {
     "name": "stdout",
     "output_type": "stream",
     "text": [
      "<class 'pandas.core.frame.DataFrame'>\n",
      "RangeIndex: 1436 entries, 0 to 1435\n",
      "Data columns (total 38 columns):\n",
      " #   Column            Non-Null Count  Dtype \n",
      "---  ------            --------------  ----- \n",
      " 0   Id                1436 non-null   int64 \n",
      " 1   Model             1436 non-null   object\n",
      " 2   Price             1436 non-null   int64 \n",
      " 3   Age_08_04         1436 non-null   int64 \n",
      " 4   Mfg_Month         1436 non-null   int64 \n",
      " 5   Mfg_Year          1436 non-null   int64 \n",
      " 6   KM                1436 non-null   int64 \n",
      " 7   Fuel_Type         1436 non-null   object\n",
      " 8   HP                1436 non-null   int64 \n",
      " 9   Met_Color         1436 non-null   int64 \n",
      " 10  Color             1436 non-null   object\n",
      " 11  Automatic         1436 non-null   int64 \n",
      " 12  cc                1436 non-null   int64 \n",
      " 13  Doors             1436 non-null   int64 \n",
      " 14  Cylinders         1436 non-null   int64 \n",
      " 15  Gears             1436 non-null   int64 \n",
      " 16  Quarterly_Tax     1436 non-null   int64 \n",
      " 17  Weight            1436 non-null   int64 \n",
      " 18  Mfr_Guarantee     1436 non-null   int64 \n",
      " 19  BOVAG_Guarantee   1436 non-null   int64 \n",
      " 20  Guarantee_Period  1436 non-null   int64 \n",
      " 21  ABS               1436 non-null   int64 \n",
      " 22  Airbag_1          1436 non-null   int64 \n",
      " 23  Airbag_2          1436 non-null   int64 \n",
      " 24  Airco             1436 non-null   int64 \n",
      " 25  Automatic_airco   1436 non-null   int64 \n",
      " 26  Boardcomputer     1436 non-null   int64 \n",
      " 27  CD_Player         1436 non-null   int64 \n",
      " 28  Central_Lock      1436 non-null   int64 \n",
      " 29  Powered_Windows   1436 non-null   int64 \n",
      " 30  Power_Steering    1436 non-null   int64 \n",
      " 31  Radio             1436 non-null   int64 \n",
      " 32  Mistlamps         1436 non-null   int64 \n",
      " 33  Sport_Model       1436 non-null   int64 \n",
      " 34  Backseat_Divider  1436 non-null   int64 \n",
      " 35  Metallic_Rim      1436 non-null   int64 \n",
      " 36  Radio_cassette    1436 non-null   int64 \n",
      " 37  Tow_Bar           1436 non-null   int64 \n",
      "dtypes: int64(35), object(3)\n",
      "memory usage: 426.4+ KB\n"
     ]
    }
   ],
   "source": [
    "df.info()"
   ]
  },
  {
   "cell_type": "code",
   "execution_count": 5,
   "metadata": {},
   "outputs": [
    {
     "data": {
      "text/html": [
       "<div>\n",
       "<style scoped>\n",
       "    .dataframe tbody tr th:only-of-type {\n",
       "        vertical-align: middle;\n",
       "    }\n",
       "\n",
       "    .dataframe tbody tr th {\n",
       "        vertical-align: top;\n",
       "    }\n",
       "\n",
       "    .dataframe thead th {\n",
       "        text-align: right;\n",
       "    }\n",
       "</style>\n",
       "<table border=\"1\" class=\"dataframe\">\n",
       "  <thead>\n",
       "    <tr style=\"text-align: right;\">\n",
       "      <th></th>\n",
       "      <th>Id</th>\n",
       "      <th>Price</th>\n",
       "      <th>Age_08_04</th>\n",
       "      <th>Mfg_Month</th>\n",
       "      <th>Mfg_Year</th>\n",
       "      <th>KM</th>\n",
       "      <th>HP</th>\n",
       "      <th>Met_Color</th>\n",
       "      <th>Automatic</th>\n",
       "      <th>cc</th>\n",
       "      <th>...</th>\n",
       "      <th>Central_Lock</th>\n",
       "      <th>Powered_Windows</th>\n",
       "      <th>Power_Steering</th>\n",
       "      <th>Radio</th>\n",
       "      <th>Mistlamps</th>\n",
       "      <th>Sport_Model</th>\n",
       "      <th>Backseat_Divider</th>\n",
       "      <th>Metallic_Rim</th>\n",
       "      <th>Radio_cassette</th>\n",
       "      <th>Tow_Bar</th>\n",
       "    </tr>\n",
       "  </thead>\n",
       "  <tbody>\n",
       "    <tr>\n",
       "      <th>count</th>\n",
       "      <td>1436.000000</td>\n",
       "      <td>1436.000000</td>\n",
       "      <td>1436.000000</td>\n",
       "      <td>1436.000000</td>\n",
       "      <td>1436.000000</td>\n",
       "      <td>1436.000000</td>\n",
       "      <td>1436.000000</td>\n",
       "      <td>1436.000000</td>\n",
       "      <td>1436.000000</td>\n",
       "      <td>1436.00000</td>\n",
       "      <td>...</td>\n",
       "      <td>1436.000000</td>\n",
       "      <td>1436.000000</td>\n",
       "      <td>1436.000000</td>\n",
       "      <td>1436.000000</td>\n",
       "      <td>1436.000000</td>\n",
       "      <td>1436.000000</td>\n",
       "      <td>1436.000000</td>\n",
       "      <td>1436.000000</td>\n",
       "      <td>1436.000000</td>\n",
       "      <td>1436.000000</td>\n",
       "    </tr>\n",
       "    <tr>\n",
       "      <th>mean</th>\n",
       "      <td>721.555014</td>\n",
       "      <td>10730.824513</td>\n",
       "      <td>55.947075</td>\n",
       "      <td>5.548747</td>\n",
       "      <td>1999.625348</td>\n",
       "      <td>68533.259749</td>\n",
       "      <td>101.502089</td>\n",
       "      <td>0.674791</td>\n",
       "      <td>0.055710</td>\n",
       "      <td>1576.85585</td>\n",
       "      <td>...</td>\n",
       "      <td>0.580084</td>\n",
       "      <td>0.561978</td>\n",
       "      <td>0.977716</td>\n",
       "      <td>0.146240</td>\n",
       "      <td>0.256964</td>\n",
       "      <td>0.300139</td>\n",
       "      <td>0.770195</td>\n",
       "      <td>0.204735</td>\n",
       "      <td>0.145543</td>\n",
       "      <td>0.277855</td>\n",
       "    </tr>\n",
       "    <tr>\n",
       "      <th>std</th>\n",
       "      <td>416.476890</td>\n",
       "      <td>3626.964585</td>\n",
       "      <td>18.599988</td>\n",
       "      <td>3.354085</td>\n",
       "      <td>1.540722</td>\n",
       "      <td>37506.448872</td>\n",
       "      <td>14.981080</td>\n",
       "      <td>0.468616</td>\n",
       "      <td>0.229441</td>\n",
       "      <td>424.38677</td>\n",
       "      <td>...</td>\n",
       "      <td>0.493717</td>\n",
       "      <td>0.496317</td>\n",
       "      <td>0.147657</td>\n",
       "      <td>0.353469</td>\n",
       "      <td>0.437111</td>\n",
       "      <td>0.458478</td>\n",
       "      <td>0.420854</td>\n",
       "      <td>0.403649</td>\n",
       "      <td>0.352770</td>\n",
       "      <td>0.448098</td>\n",
       "    </tr>\n",
       "    <tr>\n",
       "      <th>min</th>\n",
       "      <td>1.000000</td>\n",
       "      <td>4350.000000</td>\n",
       "      <td>1.000000</td>\n",
       "      <td>1.000000</td>\n",
       "      <td>1998.000000</td>\n",
       "      <td>1.000000</td>\n",
       "      <td>69.000000</td>\n",
       "      <td>0.000000</td>\n",
       "      <td>0.000000</td>\n",
       "      <td>1300.00000</td>\n",
       "      <td>...</td>\n",
       "      <td>0.000000</td>\n",
       "      <td>0.000000</td>\n",
       "      <td>0.000000</td>\n",
       "      <td>0.000000</td>\n",
       "      <td>0.000000</td>\n",
       "      <td>0.000000</td>\n",
       "      <td>0.000000</td>\n",
       "      <td>0.000000</td>\n",
       "      <td>0.000000</td>\n",
       "      <td>0.000000</td>\n",
       "    </tr>\n",
       "    <tr>\n",
       "      <th>25%</th>\n",
       "      <td>361.750000</td>\n",
       "      <td>8450.000000</td>\n",
       "      <td>44.000000</td>\n",
       "      <td>3.000000</td>\n",
       "      <td>1998.000000</td>\n",
       "      <td>43000.000000</td>\n",
       "      <td>90.000000</td>\n",
       "      <td>0.000000</td>\n",
       "      <td>0.000000</td>\n",
       "      <td>1400.00000</td>\n",
       "      <td>...</td>\n",
       "      <td>0.000000</td>\n",
       "      <td>0.000000</td>\n",
       "      <td>1.000000</td>\n",
       "      <td>0.000000</td>\n",
       "      <td>0.000000</td>\n",
       "      <td>0.000000</td>\n",
       "      <td>1.000000</td>\n",
       "      <td>0.000000</td>\n",
       "      <td>0.000000</td>\n",
       "      <td>0.000000</td>\n",
       "    </tr>\n",
       "    <tr>\n",
       "      <th>50%</th>\n",
       "      <td>721.500000</td>\n",
       "      <td>9900.000000</td>\n",
       "      <td>61.000000</td>\n",
       "      <td>5.000000</td>\n",
       "      <td>1999.000000</td>\n",
       "      <td>63389.500000</td>\n",
       "      <td>110.000000</td>\n",
       "      <td>1.000000</td>\n",
       "      <td>0.000000</td>\n",
       "      <td>1600.00000</td>\n",
       "      <td>...</td>\n",
       "      <td>1.000000</td>\n",
       "      <td>1.000000</td>\n",
       "      <td>1.000000</td>\n",
       "      <td>0.000000</td>\n",
       "      <td>0.000000</td>\n",
       "      <td>0.000000</td>\n",
       "      <td>1.000000</td>\n",
       "      <td>0.000000</td>\n",
       "      <td>0.000000</td>\n",
       "      <td>0.000000</td>\n",
       "    </tr>\n",
       "    <tr>\n",
       "      <th>75%</th>\n",
       "      <td>1081.250000</td>\n",
       "      <td>11950.000000</td>\n",
       "      <td>70.000000</td>\n",
       "      <td>8.000000</td>\n",
       "      <td>2001.000000</td>\n",
       "      <td>87020.750000</td>\n",
       "      <td>110.000000</td>\n",
       "      <td>1.000000</td>\n",
       "      <td>0.000000</td>\n",
       "      <td>1600.00000</td>\n",
       "      <td>...</td>\n",
       "      <td>1.000000</td>\n",
       "      <td>1.000000</td>\n",
       "      <td>1.000000</td>\n",
       "      <td>0.000000</td>\n",
       "      <td>1.000000</td>\n",
       "      <td>1.000000</td>\n",
       "      <td>1.000000</td>\n",
       "      <td>0.000000</td>\n",
       "      <td>0.000000</td>\n",
       "      <td>1.000000</td>\n",
       "    </tr>\n",
       "    <tr>\n",
       "      <th>max</th>\n",
       "      <td>1442.000000</td>\n",
       "      <td>32500.000000</td>\n",
       "      <td>80.000000</td>\n",
       "      <td>12.000000</td>\n",
       "      <td>2004.000000</td>\n",
       "      <td>243000.000000</td>\n",
       "      <td>192.000000</td>\n",
       "      <td>1.000000</td>\n",
       "      <td>1.000000</td>\n",
       "      <td>16000.00000</td>\n",
       "      <td>...</td>\n",
       "      <td>1.000000</td>\n",
       "      <td>1.000000</td>\n",
       "      <td>1.000000</td>\n",
       "      <td>1.000000</td>\n",
       "      <td>1.000000</td>\n",
       "      <td>1.000000</td>\n",
       "      <td>1.000000</td>\n",
       "      <td>1.000000</td>\n",
       "      <td>1.000000</td>\n",
       "      <td>1.000000</td>\n",
       "    </tr>\n",
       "  </tbody>\n",
       "</table>\n",
       "<p>8 rows × 35 columns</p>\n",
       "</div>"
      ],
      "text/plain": [
       "                Id         Price    Age_08_04    Mfg_Month     Mfg_Year  \\\n",
       "count  1436.000000   1436.000000  1436.000000  1436.000000  1436.000000   \n",
       "mean    721.555014  10730.824513    55.947075     5.548747  1999.625348   \n",
       "std     416.476890   3626.964585    18.599988     3.354085     1.540722   \n",
       "min       1.000000   4350.000000     1.000000     1.000000  1998.000000   \n",
       "25%     361.750000   8450.000000    44.000000     3.000000  1998.000000   \n",
       "50%     721.500000   9900.000000    61.000000     5.000000  1999.000000   \n",
       "75%    1081.250000  11950.000000    70.000000     8.000000  2001.000000   \n",
       "max    1442.000000  32500.000000    80.000000    12.000000  2004.000000   \n",
       "\n",
       "                  KM           HP    Met_Color    Automatic           cc  ...  \\\n",
       "count    1436.000000  1436.000000  1436.000000  1436.000000   1436.00000  ...   \n",
       "mean    68533.259749   101.502089     0.674791     0.055710   1576.85585  ...   \n",
       "std     37506.448872    14.981080     0.468616     0.229441    424.38677  ...   \n",
       "min         1.000000    69.000000     0.000000     0.000000   1300.00000  ...   \n",
       "25%     43000.000000    90.000000     0.000000     0.000000   1400.00000  ...   \n",
       "50%     63389.500000   110.000000     1.000000     0.000000   1600.00000  ...   \n",
       "75%     87020.750000   110.000000     1.000000     0.000000   1600.00000  ...   \n",
       "max    243000.000000   192.000000     1.000000     1.000000  16000.00000  ...   \n",
       "\n",
       "       Central_Lock  Powered_Windows  Power_Steering        Radio  \\\n",
       "count   1436.000000      1436.000000     1436.000000  1436.000000   \n",
       "mean       0.580084         0.561978        0.977716     0.146240   \n",
       "std        0.493717         0.496317        0.147657     0.353469   \n",
       "min        0.000000         0.000000        0.000000     0.000000   \n",
       "25%        0.000000         0.000000        1.000000     0.000000   \n",
       "50%        1.000000         1.000000        1.000000     0.000000   \n",
       "75%        1.000000         1.000000        1.000000     0.000000   \n",
       "max        1.000000         1.000000        1.000000     1.000000   \n",
       "\n",
       "         Mistlamps  Sport_Model  Backseat_Divider  Metallic_Rim  \\\n",
       "count  1436.000000  1436.000000       1436.000000   1436.000000   \n",
       "mean      0.256964     0.300139          0.770195      0.204735   \n",
       "std       0.437111     0.458478          0.420854      0.403649   \n",
       "min       0.000000     0.000000          0.000000      0.000000   \n",
       "25%       0.000000     0.000000          1.000000      0.000000   \n",
       "50%       0.000000     0.000000          1.000000      0.000000   \n",
       "75%       1.000000     1.000000          1.000000      0.000000   \n",
       "max       1.000000     1.000000          1.000000      1.000000   \n",
       "\n",
       "       Radio_cassette      Tow_Bar  \n",
       "count     1436.000000  1436.000000  \n",
       "mean         0.145543     0.277855  \n",
       "std          0.352770     0.448098  \n",
       "min          0.000000     0.000000  \n",
       "25%          0.000000     0.000000  \n",
       "50%          0.000000     0.000000  \n",
       "75%          0.000000     1.000000  \n",
       "max          1.000000     1.000000  \n",
       "\n",
       "[8 rows x 35 columns]"
      ]
     },
     "execution_count": 5,
     "metadata": {},
     "output_type": "execute_result"
    }
   ],
   "source": [
    "df.describe()"
   ]
  },
  {
   "cell_type": "code",
   "execution_count": 6,
   "metadata": {},
   "outputs": [
    {
     "data": {
      "text/html": [
       "<div>\n",
       "<style scoped>\n",
       "    .dataframe tbody tr th:only-of-type {\n",
       "        vertical-align: middle;\n",
       "    }\n",
       "\n",
       "    .dataframe tbody tr th {\n",
       "        vertical-align: top;\n",
       "    }\n",
       "\n",
       "    .dataframe thead th {\n",
       "        text-align: right;\n",
       "    }\n",
       "</style>\n",
       "<table border=\"1\" class=\"dataframe\">\n",
       "  <thead>\n",
       "    <tr style=\"text-align: right;\">\n",
       "      <th></th>\n",
       "      <th>Id</th>\n",
       "      <th>Model</th>\n",
       "      <th>Price</th>\n",
       "      <th>Age_08_04</th>\n",
       "      <th>Mfg_Month</th>\n",
       "      <th>Mfg_Year</th>\n",
       "      <th>KM</th>\n",
       "      <th>Fuel_Type</th>\n",
       "      <th>HP</th>\n",
       "      <th>Met_Color</th>\n",
       "      <th>...</th>\n",
       "      <th>Central_Lock</th>\n",
       "      <th>Powered_Windows</th>\n",
       "      <th>Power_Steering</th>\n",
       "      <th>Radio</th>\n",
       "      <th>Mistlamps</th>\n",
       "      <th>Sport_Model</th>\n",
       "      <th>Backseat_Divider</th>\n",
       "      <th>Metallic_Rim</th>\n",
       "      <th>Radio_cassette</th>\n",
       "      <th>Tow_Bar</th>\n",
       "    </tr>\n",
       "  </thead>\n",
       "  <tbody>\n",
       "    <tr>\n",
       "      <th>0</th>\n",
       "      <td>1</td>\n",
       "      <td>TOYOTA Corolla 2.0 D4D HATCHB TERRA 2/3-Doors</td>\n",
       "      <td>13500</td>\n",
       "      <td>23</td>\n",
       "      <td>10</td>\n",
       "      <td>2002</td>\n",
       "      <td>46986</td>\n",
       "      <td>Diesel</td>\n",
       "      <td>90</td>\n",
       "      <td>1</td>\n",
       "      <td>...</td>\n",
       "      <td>1</td>\n",
       "      <td>1</td>\n",
       "      <td>1</td>\n",
       "      <td>0</td>\n",
       "      <td>0</td>\n",
       "      <td>0</td>\n",
       "      <td>1</td>\n",
       "      <td>0</td>\n",
       "      <td>0</td>\n",
       "      <td>0</td>\n",
       "    </tr>\n",
       "  </tbody>\n",
       "</table>\n",
       "<p>1 rows × 38 columns</p>\n",
       "</div>"
      ],
      "text/plain": [
       "   Id                                          Model  Price  Age_08_04  \\\n",
       "0   1  TOYOTA Corolla 2.0 D4D HATCHB TERRA 2/3-Doors  13500         23   \n",
       "\n",
       "   Mfg_Month  Mfg_Year     KM Fuel_Type  HP  Met_Color  ... Central_Lock  \\\n",
       "0         10      2002  46986    Diesel  90          1  ...            1   \n",
       "\n",
       "   Powered_Windows  Power_Steering  Radio  Mistlamps  Sport_Model  \\\n",
       "0                1               1      0          0            0   \n",
       "\n",
       "   Backseat_Divider  Metallic_Rim  Radio_cassette  Tow_Bar  \n",
       "0                 1             0               0        0  \n",
       "\n",
       "[1 rows x 38 columns]"
      ]
     },
     "execution_count": 6,
     "metadata": {},
     "output_type": "execute_result"
    }
   ],
   "source": [
    "df[:1]"
   ]
  },
  {
   "cell_type": "code",
   "execution_count": 7,
   "metadata": {},
   "outputs": [],
   "source": [
    "df.drop(['Model', 'Fuel_Type'], axis=1, inplace=True)"
   ]
  },
  {
   "cell_type": "code",
   "execution_count": 8,
   "metadata": {},
   "outputs": [
    {
     "data": {
      "text/html": [
       "<div>\n",
       "<style scoped>\n",
       "    .dataframe tbody tr th:only-of-type {\n",
       "        vertical-align: middle;\n",
       "    }\n",
       "\n",
       "    .dataframe tbody tr th {\n",
       "        vertical-align: top;\n",
       "    }\n",
       "\n",
       "    .dataframe thead th {\n",
       "        text-align: right;\n",
       "    }\n",
       "</style>\n",
       "<table border=\"1\" class=\"dataframe\">\n",
       "  <thead>\n",
       "    <tr style=\"text-align: right;\">\n",
       "      <th></th>\n",
       "      <th>Id</th>\n",
       "      <th>Price</th>\n",
       "      <th>Age_08_04</th>\n",
       "      <th>Mfg_Month</th>\n",
       "      <th>Mfg_Year</th>\n",
       "      <th>KM</th>\n",
       "      <th>HP</th>\n",
       "      <th>Met_Color</th>\n",
       "      <th>Color</th>\n",
       "      <th>Automatic</th>\n",
       "      <th>...</th>\n",
       "      <th>Central_Lock</th>\n",
       "      <th>Powered_Windows</th>\n",
       "      <th>Power_Steering</th>\n",
       "      <th>Radio</th>\n",
       "      <th>Mistlamps</th>\n",
       "      <th>Sport_Model</th>\n",
       "      <th>Backseat_Divider</th>\n",
       "      <th>Metallic_Rim</th>\n",
       "      <th>Radio_cassette</th>\n",
       "      <th>Tow_Bar</th>\n",
       "    </tr>\n",
       "  </thead>\n",
       "  <tbody>\n",
       "    <tr>\n",
       "      <th>0</th>\n",
       "      <td>1</td>\n",
       "      <td>13500</td>\n",
       "      <td>23</td>\n",
       "      <td>10</td>\n",
       "      <td>2002</td>\n",
       "      <td>46986</td>\n",
       "      <td>90</td>\n",
       "      <td>1</td>\n",
       "      <td>Blue</td>\n",
       "      <td>0</td>\n",
       "      <td>...</td>\n",
       "      <td>1</td>\n",
       "      <td>1</td>\n",
       "      <td>1</td>\n",
       "      <td>0</td>\n",
       "      <td>0</td>\n",
       "      <td>0</td>\n",
       "      <td>1</td>\n",
       "      <td>0</td>\n",
       "      <td>0</td>\n",
       "      <td>0</td>\n",
       "    </tr>\n",
       "  </tbody>\n",
       "</table>\n",
       "<p>1 rows × 36 columns</p>\n",
       "</div>"
      ],
      "text/plain": [
       "   Id  Price  Age_08_04  Mfg_Month  Mfg_Year     KM  HP  Met_Color Color  \\\n",
       "0   1  13500         23         10      2002  46986  90          1  Blue   \n",
       "\n",
       "   Automatic  ...  Central_Lock  Powered_Windows  Power_Steering  Radio  \\\n",
       "0          0  ...             1                1               1      0   \n",
       "\n",
       "   Mistlamps  Sport_Model  Backseat_Divider  Metallic_Rim  Radio_cassette  \\\n",
       "0          0            0                 1             0               0   \n",
       "\n",
       "   Tow_Bar  \n",
       "0        0  \n",
       "\n",
       "[1 rows x 36 columns]"
      ]
     },
     "execution_count": 8,
     "metadata": {},
     "output_type": "execute_result"
    }
   ],
   "source": [
    "df[:1]"
   ]
  },
  {
   "cell_type": "code",
   "execution_count": 9,
   "metadata": {},
   "outputs": [
    {
     "data": {
      "text/plain": [
       "(1436, 36)"
      ]
     },
     "execution_count": 9,
     "metadata": {},
     "output_type": "execute_result"
    }
   ],
   "source": [
    "df.shape"
   ]
  },
  {
   "cell_type": "code",
   "execution_count": 10,
   "metadata": {},
   "outputs": [
    {
     "data": {
      "text/plain": [
       "array([   1,    2,    3, ..., 1440, 1441, 1442], dtype=int64)"
      ]
     },
     "execution_count": 10,
     "metadata": {},
     "output_type": "execute_result"
    }
   ],
   "source": [
    "df.Id.unique()"
   ]
  },
  {
   "cell_type": "code",
   "execution_count": 11,
   "metadata": {},
   "outputs": [
    {
     "data": {
      "text/plain": [
       "Id                  0\n",
       "Price               0\n",
       "Age_08_04           0\n",
       "Mfg_Month           0\n",
       "Mfg_Year            0\n",
       "KM                  0\n",
       "HP                  0\n",
       "Met_Color           0\n",
       "Color               0\n",
       "Automatic           0\n",
       "cc                  0\n",
       "Doors               0\n",
       "Cylinders           0\n",
       "Gears               0\n",
       "Quarterly_Tax       0\n",
       "Weight              0\n",
       "Mfr_Guarantee       0\n",
       "BOVAG_Guarantee     0\n",
       "Guarantee_Period    0\n",
       "ABS                 0\n",
       "Airbag_1            0\n",
       "Airbag_2            0\n",
       "Airco               0\n",
       "Automatic_airco     0\n",
       "Boardcomputer       0\n",
       "CD_Player           0\n",
       "Central_Lock        0\n",
       "Powered_Windows     0\n",
       "Power_Steering      0\n",
       "Radio               0\n",
       "Mistlamps           0\n",
       "Sport_Model         0\n",
       "Backseat_Divider    0\n",
       "Metallic_Rim        0\n",
       "Radio_cassette      0\n",
       "Tow_Bar             0\n",
       "dtype: int64"
      ]
     },
     "execution_count": 11,
     "metadata": {},
     "output_type": "execute_result"
    }
   ],
   "source": [
    "df.isna().sum()"
   ]
  },
  {
   "cell_type": "code",
   "execution_count": 12,
   "metadata": {},
   "outputs": [
    {
     "data": {
      "text/plain": [
       "Id                  0\n",
       "Price               0\n",
       "Age_08_04           0\n",
       "Mfg_Month           0\n",
       "Mfg_Year            0\n",
       "KM                  0\n",
       "HP                  0\n",
       "Met_Color           0\n",
       "Color               0\n",
       "Automatic           0\n",
       "cc                  0\n",
       "Doors               0\n",
       "Cylinders           0\n",
       "Gears               0\n",
       "Quarterly_Tax       0\n",
       "Weight              0\n",
       "Mfr_Guarantee       0\n",
       "BOVAG_Guarantee     0\n",
       "Guarantee_Period    0\n",
       "ABS                 0\n",
       "Airbag_1            0\n",
       "Airbag_2            0\n",
       "Airco               0\n",
       "Automatic_airco     0\n",
       "Boardcomputer       0\n",
       "CD_Player           0\n",
       "Central_Lock        0\n",
       "Powered_Windows     0\n",
       "Power_Steering      0\n",
       "Radio               0\n",
       "Mistlamps           0\n",
       "Sport_Model         0\n",
       "Backseat_Divider    0\n",
       "Metallic_Rim        0\n",
       "Radio_cassette      0\n",
       "Tow_Bar             0\n",
       "dtype: int64"
      ]
     },
     "execution_count": 12,
     "metadata": {},
     "output_type": "execute_result"
    }
   ],
   "source": [
    "df.isnull().sum()"
   ]
  },
  {
   "cell_type": "code",
   "execution_count": 13,
   "metadata": {},
   "outputs": [],
   "source": [
    "## Apply Linear Regression"
   ]
  },
  {
   "cell_type": "code",
   "execution_count": 14,
   "metadata": {},
   "outputs": [],
   "source": [
    "from sklearn.linear_model import LinearRegression"
   ]
  },
  {
   "cell_type": "code",
   "execution_count": 15,
   "metadata": {},
   "outputs": [],
   "source": [
    "linear_model = LinearRegression()"
   ]
  },
  {
   "cell_type": "code",
   "execution_count": 19,
   "metadata": {},
   "outputs": [
    {
     "data": {
      "text/plain": [
       "Index(['Id', 'Price', 'Age_08_04', 'Mfg_Month', 'Mfg_Year', 'KM', 'HP',\n",
       "       'Met_Color', 'Color', 'Automatic', 'cc', 'Doors', 'Cylinders', 'Gears',\n",
       "       'Quarterly_Tax', 'Weight', 'Mfr_Guarantee', 'BOVAG_Guarantee',\n",
       "       'Guarantee_Period', 'ABS', 'Airbag_1', 'Airbag_2', 'Airco',\n",
       "       'Automatic_airco', 'Boardcomputer', 'CD_Player', 'Central_Lock',\n",
       "       'Powered_Windows', 'Power_Steering', 'Radio', 'Mistlamps',\n",
       "       'Sport_Model', 'Backseat_Divider', 'Metallic_Rim', 'Radio_cassette',\n",
       "       'Tow_Bar'],\n",
       "      dtype='object')"
      ]
     },
     "execution_count": 19,
     "metadata": {},
     "output_type": "execute_result"
    }
   ],
   "source": [
    "df.columns"
   ]
  },
  {
   "cell_type": "code",
   "execution_count": 21,
   "metadata": {},
   "outputs": [],
   "source": [
    "## Train test split\n",
    "train = df.drop(['Price', 'Color', 'Id'], axis=1)\n",
    "test = df.Price"
   ]
  },
  {
   "cell_type": "code",
   "execution_count": 23,
   "metadata": {},
   "outputs": [],
   "source": [
    "X_train, X_test, y_train, y_test = train_test_split(train, test, test_size=0.3)"
   ]
  },
  {
   "cell_type": "code",
   "execution_count": 24,
   "metadata": {},
   "outputs": [
    {
     "data": {
      "text/plain": [
       "LinearRegression()"
      ]
     },
     "execution_count": 24,
     "metadata": {},
     "output_type": "execute_result"
    }
   ],
   "source": [
    "linear_model.fit(X_train, y_train)"
   ]
  },
  {
   "cell_type": "code",
   "execution_count": 25,
   "metadata": {},
   "outputs": [],
   "source": [
    "linear_pridict = linear_model.predict(X_test)"
   ]
  },
  {
   "cell_type": "code",
   "execution_count": 26,
   "metadata": {},
   "outputs": [],
   "source": [
    "linear_actual_pridict = pd.DataFrame({\"Actual\": y_test, \"Pridict\":linear_pridict})"
   ]
  },
  {
   "cell_type": "code",
   "execution_count": 27,
   "metadata": {},
   "outputs": [
    {
     "data": {
      "text/html": [
       "<div>\n",
       "<style scoped>\n",
       "    .dataframe tbody tr th:only-of-type {\n",
       "        vertical-align: middle;\n",
       "    }\n",
       "\n",
       "    .dataframe tbody tr th {\n",
       "        vertical-align: top;\n",
       "    }\n",
       "\n",
       "    .dataframe thead th {\n",
       "        text-align: right;\n",
       "    }\n",
       "</style>\n",
       "<table border=\"1\" class=\"dataframe\">\n",
       "  <thead>\n",
       "    <tr style=\"text-align: right;\">\n",
       "      <th></th>\n",
       "      <th>Actual</th>\n",
       "      <th>Pridict</th>\n",
       "    </tr>\n",
       "  </thead>\n",
       "  <tbody>\n",
       "    <tr>\n",
       "      <th>885</th>\n",
       "      <td>9950</td>\n",
       "      <td>10704.163315</td>\n",
       "    </tr>\n",
       "    <tr>\n",
       "      <th>752</th>\n",
       "      <td>8450</td>\n",
       "      <td>9161.955677</td>\n",
       "    </tr>\n",
       "    <tr>\n",
       "      <th>107</th>\n",
       "      <td>17450</td>\n",
       "      <td>17044.094541</td>\n",
       "    </tr>\n",
       "    <tr>\n",
       "      <th>268</th>\n",
       "      <td>14750</td>\n",
       "      <td>14703.166368</td>\n",
       "    </tr>\n",
       "    <tr>\n",
       "      <th>353</th>\n",
       "      <td>12500</td>\n",
       "      <td>13201.962154</td>\n",
       "    </tr>\n",
       "    <tr>\n",
       "      <th>1107</th>\n",
       "      <td>7250</td>\n",
       "      <td>7266.711667</td>\n",
       "    </tr>\n",
       "    <tr>\n",
       "      <th>1435</th>\n",
       "      <td>6950</td>\n",
       "      <td>9404.965778</td>\n",
       "    </tr>\n",
       "    <tr>\n",
       "      <th>205</th>\n",
       "      <td>11500</td>\n",
       "      <td>12307.501118</td>\n",
       "    </tr>\n",
       "    <tr>\n",
       "      <th>1372</th>\n",
       "      <td>6750</td>\n",
       "      <td>8082.616737</td>\n",
       "    </tr>\n",
       "    <tr>\n",
       "      <th>644</th>\n",
       "      <td>9950</td>\n",
       "      <td>9521.852624</td>\n",
       "    </tr>\n",
       "  </tbody>\n",
       "</table>\n",
       "</div>"
      ],
      "text/plain": [
       "      Actual       Pridict\n",
       "885     9950  10704.163315\n",
       "752     8450   9161.955677\n",
       "107    17450  17044.094541\n",
       "268    14750  14703.166368\n",
       "353    12500  13201.962154\n",
       "1107    7250   7266.711667\n",
       "1435    6950   9404.965778\n",
       "205    11500  12307.501118\n",
       "1372    6750   8082.616737\n",
       "644     9950   9521.852624"
      ]
     },
     "execution_count": 27,
     "metadata": {},
     "output_type": "execute_result"
    }
   ],
   "source": [
    "linear_actual_pridict[:10]"
   ]
  },
  {
   "cell_type": "code",
   "execution_count": 28,
   "metadata": {},
   "outputs": [
    {
     "data": {
      "text/plain": [
       "0.9040590780670916"
      ]
     },
     "execution_count": 28,
     "metadata": {},
     "output_type": "execute_result"
    }
   ],
   "source": [
    "linear_model.score(X_test, y_test)"
   ]
  },
  {
   "cell_type": "code",
   "execution_count": 29,
   "metadata": {},
   "outputs": [],
   "source": [
    "## find mean square error\n",
    "mse = np.mean((linear_pridict - y_test)**2)"
   ]
  },
  {
   "cell_type": "code",
   "execution_count": 32,
   "metadata": {},
   "outputs": [
    {
     "name": "stdout",
     "output_type": "stream",
     "text": [
      " Mean Square error is: 1278371.0229769414\n"
     ]
    }
   ],
   "source": [
    "print(f' Mean Square error is: {mse}')"
   ]
  },
  {
   "cell_type": "code",
   "execution_count": 35,
   "metadata": {},
   "outputs": [
    {
     "data": {
      "image/png": "[encoded data removed]",
      "text/plain": [
       "<Figure size 864x576 with 1 Axes>"
      ]
     },
     "metadata": {
      "needs_background": "light"
     },
     "output_type": "display_data"
    }
   ],
   "source": [
    "## Selecting the R festure for your Model\n",
    "plt.figure(figsize=(12,8))\n",
    "x_plot = plt.scatter(linear_pridict, (linear_pridict - y_test), c='b')\n",
    "plt.hlines(y=0, xmin = -1000, xmax = 50002)\n",
    "plt.title('Residual plot')\n",
    "plt.show()"
   ]
  },
  {
   "cell_type": "markdown",
   "metadata": {},
   "source": [
    "## Regularization"
   ]
  },
  {
   "cell_type": "code",
   "execution_count": 37,
   "metadata": {},
   "outputs": [
    {
     "data": {
      "image/png": "[encoded data removed]",
      "text/plain": [
       "<Figure size 864x576 with 1 Axes>"
      ]
     },
     "metadata": {
      "needs_background": "light"
     },
     "output_type": "display_data"
    }
   ],
   "source": [
    "plt.figure(figsize=(12,8))\n",
    "pridictor  = X_train.columns\n",
    "coef = pd.Series(linear_model.coef_, pridictor).sort_values()\n",
    "coef.plot(kind= 'bar', title= 'Model Cofficient')\n",
    "plt.show()"
   ]
  },
  {
   "cell_type": "code",
   "execution_count": null,
   "metadata": {},
   "outputs": [],
   "source": []
  },
  {
   "cell_type": "markdown",
   "metadata": {},
   "source": [
    "## Ridge Regression"
   ]
  },
  {
   "cell_type": "code",
   "execution_count": 38,
   "metadata": {},
   "outputs": [],
   "source": [
    "from sklearn.linear_model import Ridge"
   ]
  },
  {
   "cell_type": "code",
   "execution_count": 39,
   "metadata": {},
   "outputs": [],
   "source": [
    "ridge_model = Ridge(alpha=0.5, normalize= True)"
   ]
  },
  {
   "cell_type": "code",
   "execution_count": 40,
   "metadata": {},
   "outputs": [
    {
     "data": {
      "text/plain": [
       "Ridge(alpha=0.5, normalize=True)"
      ]
     },
     "execution_count": 40,
     "metadata": {},
     "output_type": "execute_result"
    }
   ],
   "source": [
    "ridge_model.fit(X_train, y_train)"
   ]
  },
  {
   "cell_type": "code",
   "execution_count": 42,
   "metadata": {},
   "outputs": [],
   "source": [
    "ridge_pridict = ridge_model.predict(X_test)"
   ]
  },
  {
   "cell_type": "code",
   "execution_count": 48,
   "metadata": {},
   "outputs": [],
   "source": [
    "ridgde_actual_pridict = pd.DataFrame({'Actual': y_test, 'Pridict': np.round(ridge_pridict,2)})"
   ]
  },
  {
   "cell_type": "code",
   "execution_count": 49,
   "metadata": {},
   "outputs": [
    {
     "data": {
      "text/html": [
       "<div>\n",
       "<style scoped>\n",
       "    .dataframe tbody tr th:only-of-type {\n",
       "        vertical-align: middle;\n",
       "    }\n",
       "\n",
       "    .dataframe tbody tr th {\n",
       "        vertical-align: top;\n",
       "    }\n",
       "\n",
       "    .dataframe thead th {\n",
       "        text-align: right;\n",
       "    }\n",
       "</style>\n",
       "<table border=\"1\" class=\"dataframe\">\n",
       "  <thead>\n",
       "    <tr style=\"text-align: right;\">\n",
       "      <th></th>\n",
       "      <th>Actual</th>\n",
       "      <th>Pridict</th>\n",
       "    </tr>\n",
       "  </thead>\n",
       "  <tbody>\n",
       "    <tr>\n",
       "      <th>885</th>\n",
       "      <td>9950</td>\n",
       "      <td>10734.93</td>\n",
       "    </tr>\n",
       "    <tr>\n",
       "      <th>752</th>\n",
       "      <td>8450</td>\n",
       "      <td>9446.10</td>\n",
       "    </tr>\n",
       "    <tr>\n",
       "      <th>107</th>\n",
       "      <td>17450</td>\n",
       "      <td>16251.00</td>\n",
       "    </tr>\n",
       "    <tr>\n",
       "      <th>268</th>\n",
       "      <td>14750</td>\n",
       "      <td>14680.44</td>\n",
       "    </tr>\n",
       "    <tr>\n",
       "      <th>353</th>\n",
       "      <td>12500</td>\n",
       "      <td>13148.38</td>\n",
       "    </tr>\n",
       "    <tr>\n",
       "      <th>1107</th>\n",
       "      <td>7250</td>\n",
       "      <td>7248.12</td>\n",
       "    </tr>\n",
       "    <tr>\n",
       "      <th>1435</th>\n",
       "      <td>6950</td>\n",
       "      <td>9396.49</td>\n",
       "    </tr>\n",
       "    <tr>\n",
       "      <th>205</th>\n",
       "      <td>11500</td>\n",
       "      <td>12726.34</td>\n",
       "    </tr>\n",
       "    <tr>\n",
       "      <th>1372</th>\n",
       "      <td>6750</td>\n",
       "      <td>7850.03</td>\n",
       "    </tr>\n",
       "    <tr>\n",
       "      <th>644</th>\n",
       "      <td>9950</td>\n",
       "      <td>9640.79</td>\n",
       "    </tr>\n",
       "  </tbody>\n",
       "</table>\n",
       "</div>"
      ],
      "text/plain": [
       "      Actual   Pridict\n",
       "885     9950  10734.93\n",
       "752     8450   9446.10\n",
       "107    17450  16251.00\n",
       "268    14750  14680.44\n",
       "353    12500  13148.38\n",
       "1107    7250   7248.12\n",
       "1435    6950   9396.49\n",
       "205    11500  12726.34\n",
       "1372    6750   7850.03\n",
       "644     9950   9640.79"
      ]
     },
     "execution_count": 49,
     "metadata": {},
     "output_type": "execute_result"
    }
   ],
   "source": [
    "ridgde_actual_pridict[:10]"
   ]
  },
  {
   "cell_type": "code",
   "execution_count": 50,
   "metadata": {},
   "outputs": [
    {
     "data": {
      "text/plain": [
       "0.8958823018769715"
      ]
     },
     "execution_count": 50,
     "metadata": {},
     "output_type": "execute_result"
    }
   ],
   "source": [
    "ridge_model.score(X_test, y_test)"
   ]
  },
  {
   "cell_type": "code",
   "execution_count": 51,
   "metadata": {},
   "outputs": [],
   "source": [
    "mse = np.mean((ridge_pridict - y_test)**2)"
   ]
  },
  {
   "cell_type": "code",
   "execution_count": 52,
   "metadata": {},
   "outputs": [
    {
     "name": "stdout",
     "output_type": "stream",
     "text": [
      "Mean Square error is: 1387323.0064707738\n"
     ]
    }
   ],
   "source": [
    "print(f'Mean Square error is: {mse}')"
   ]
  },
  {
   "cell_type": "markdown",
   "metadata": {},
   "source": [
    "## Lasso Regression"
   ]
  },
  {
   "cell_type": "code",
   "execution_count": 53,
   "metadata": {},
   "outputs": [],
   "source": [
    "from sklearn.linear_model import Lasso"
   ]
  },
  {
   "cell_type": "code",
   "execution_count": 62,
   "metadata": {},
   "outputs": [],
   "source": [
    "lasso_model = Lasso(alpha=0.3, normalize=True)"
   ]
  },
  {
   "cell_type": "code",
   "execution_count": 63,
   "metadata": {},
   "outputs": [
    {
     "data": {
      "text/plain": [
       "Lasso(alpha=0.3, normalize=True)"
      ]
     },
     "execution_count": 63,
     "metadata": {},
     "output_type": "execute_result"
    }
   ],
   "source": [
    "lasso_model.fit(X_train, y_train)"
   ]
  },
  {
   "cell_type": "code",
   "execution_count": 64,
   "metadata": {},
   "outputs": [],
   "source": [
    "lasso_pred = lasso_model.predict(X_test)"
   ]
  },
  {
   "cell_type": "code",
   "execution_count": 65,
   "metadata": {},
   "outputs": [],
   "source": [
    "lesso_actual_pridict = pd.DataFrame({'Actual': y_test, 'Pridict': np.around(lasso_pred,2)})"
   ]
  },
  {
   "cell_type": "code",
   "execution_count": 66,
   "metadata": {},
   "outputs": [
    {
     "data": {
      "text/html": [
       "<div>\n",
       "<style scoped>\n",
       "    .dataframe tbody tr th:only-of-type {\n",
       "        vertical-align: middle;\n",
       "    }\n",
       "\n",
       "    .dataframe tbody tr th {\n",
       "        vertical-align: top;\n",
       "    }\n",
       "\n",
       "    .dataframe thead th {\n",
       "        text-align: right;\n",
       "    }\n",
       "</style>\n",
       "<table border=\"1\" class=\"dataframe\">\n",
       "  <thead>\n",
       "    <tr style=\"text-align: right;\">\n",
       "      <th></th>\n",
       "      <th>Actual</th>\n",
       "      <th>Pridict</th>\n",
       "    </tr>\n",
       "  </thead>\n",
       "  <tbody>\n",
       "    <tr>\n",
       "      <th>885</th>\n",
       "      <td>9950</td>\n",
       "      <td>10667.27</td>\n",
       "    </tr>\n",
       "    <tr>\n",
       "      <th>752</th>\n",
       "      <td>8450</td>\n",
       "      <td>9135.68</td>\n",
       "    </tr>\n",
       "    <tr>\n",
       "      <th>107</th>\n",
       "      <td>17450</td>\n",
       "      <td>17001.43</td>\n",
       "    </tr>\n",
       "    <tr>\n",
       "      <th>268</th>\n",
       "      <td>14750</td>\n",
       "      <td>14735.28</td>\n",
       "    </tr>\n",
       "    <tr>\n",
       "      <th>353</th>\n",
       "      <td>12500</td>\n",
       "      <td>13211.88</td>\n",
       "    </tr>\n",
       "    <tr>\n",
       "      <th>1107</th>\n",
       "      <td>7250</td>\n",
       "      <td>7268.55</td>\n",
       "    </tr>\n",
       "    <tr>\n",
       "      <th>1435</th>\n",
       "      <td>6950</td>\n",
       "      <td>9418.50</td>\n",
       "    </tr>\n",
       "    <tr>\n",
       "      <th>205</th>\n",
       "      <td>11500</td>\n",
       "      <td>12305.45</td>\n",
       "    </tr>\n",
       "    <tr>\n",
       "      <th>1372</th>\n",
       "      <td>6750</td>\n",
       "      <td>8097.13</td>\n",
       "    </tr>\n",
       "    <tr>\n",
       "      <th>644</th>\n",
       "      <td>9950</td>\n",
       "      <td>9514.33</td>\n",
       "    </tr>\n",
       "  </tbody>\n",
       "</table>\n",
       "</div>"
      ],
      "text/plain": [
       "      Actual   Pridict\n",
       "885     9950  10667.27\n",
       "752     8450   9135.68\n",
       "107    17450  17001.43\n",
       "268    14750  14735.28\n",
       "353    12500  13211.88\n",
       "1107    7250   7268.55\n",
       "1435    6950   9418.50\n",
       "205    11500  12305.45\n",
       "1372    6750   8097.13\n",
       "644     9950   9514.33"
      ]
     },
     "execution_count": 66,
     "metadata": {},
     "output_type": "execute_result"
    }
   ],
   "source": [
    "lesso_actual_pridict[:10]"
   ]
  },
  {
   "cell_type": "code",
   "execution_count": 69,
   "metadata": {},
   "outputs": [
    {
     "data": {
      "text/plain": [
       "0.9046623431728587"
      ]
     },
     "execution_count": 69,
     "metadata": {},
     "output_type": "execute_result"
    }
   ],
   "source": [
    "lasso_model.score(X_test, y_test)"
   ]
  },
  {
   "cell_type": "code",
   "execution_count": 74,
   "metadata": {},
   "outputs": [],
   "source": [
    "## find mean square error\n",
    "mse = np.mean((lasso_pred- y_test)**2)"
   ]
  },
  {
   "cell_type": "code",
   "execution_count": 75,
   "metadata": {},
   "outputs": [
    {
     "name": "stdout",
     "output_type": "stream",
     "text": [
      "Mean square error is: 1270332.7780356954\n"
     ]
    }
   ],
   "source": [
    "print(f'Mean square error is: {mse}')"
   ]
  },
  {
   "cell_type": "code",
   "execution_count": null,
   "metadata": {},
   "outputs": [],
   "source": []
  }
 ],
 "metadata": {
  "kernelspec": {
   "display_name": "Python 3",
   "language": "python",
   "name": "python3"
  },
  "language_info": {
   "codemirror_mode": {
    "name": "ipython",
    "version": 3
   },
   "file_extension": ".py",
   "mimetype": "text/x-python",
   "name": "python",
   "nbconvert_exporter": "python",
   "pygments_lexer": "ipython3",
   "version": "3.8.5"
  }
 },
 "nbformat": 4,
 "nbformat_minor": 4
}
